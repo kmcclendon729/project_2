{
 "metadata": {
  "language_info": {
   "codemirror_mode": {
    "name": "ipython",
    "version": 3
   },
   "file_extension": ".py",
   "mimetype": "text/x-python",
   "name": "python",
   "nbconvert_exporter": "python",
   "pygments_lexer": "ipython3",
   "version": "2.7.16-final"
  },
  "orig_nbformat": 2,
  "kernelspec": {
   "name": "python361064bitpythondatavizconda8faeb8d20dfe4449876d49c9cc48fd4c",
   "display_name": "Python 3.6.10 64-bit ('PythonDataViz': conda)"
  }
 },
 "nbformat": 4,
 "nbformat_minor": 2,
 "cells": [
  {
   "cell_type": "code",
   "execution_count": 6,
   "metadata": {},
   "outputs": [],
   "source": [
    "import pandas as pd\n",
    "import numpy as np\n",
    "\n",
    "import json\n",
    "data_path = \"yelp.json\"\n",
    "out_data_path = \"business.json\"\n"
   ]
  },
  {
   "cell_type": "code",
   "execution_count": 8,
   "metadata": {},
   "outputs": [],
   "source": [
    "def main(f, o):\n",
    "    with open(f) as f:\n",
    "        l = f.read().splitlines()\n",
    "        res = []\n",
    "        out = open(o, 'w')\n",
    "        for line in l:\n",
    "            j = json.loads(line)\n",
    "            d = {}\n",
    "            d['_id'] = j['business_id']\n",
    "            d['name'] = j['name']\n",
    "            d[\"loc\"] = {\n",
    "                        \"type\" : \"Point\",\n",
    "                        \"coordinates\" : [j['longitude'], j[\"latitude\"]]\n",
    "              }\n",
    "            d['stars'] = j['stars']\n",
    "            d['review_count'] = j['review_count']\n",
    "            d['categories'] = j['categories']\n",
    "            res.append(json.dumps(d))\n",
    "        out.write('[' + ',\\n'.join(res) + ']')\n",
    "        out.close()\n",
    "\n",
    "\n",
    "if __name__ == '__main__':\n",
    "    main(data_path, out_data_path)"
   ]
  },
  {
   "cell_type": "code",
   "execution_count": null,
   "metadata": {},
   "outputs": [],
   "source": []
  }
 ]
}